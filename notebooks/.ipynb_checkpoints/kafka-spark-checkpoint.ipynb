{
 "cells": [
  {
   "cell_type": "code",
   "execution_count": null,
   "id": "f05be18b",
   "metadata": {},
   "outputs": [],
   "source": [
    "%%sh\n",
    "pip install kafka-python"
   ]
  },
  {
   "cell_type": "code",
   "execution_count": 11,
   "id": "3ca07522",
   "metadata": {},
   "outputs": [],
   "source": [
    "import time\n",
    "import json\n",
    "import random\n",
    "import logging\n",
    "import requests\n",
    "from kafka import KafkaProducer\n",
    "from kafka.errors import KafkaError\n",
    "from pyspark.sql.functions import from_json, col\n",
    "from pyspark.sql.types import *\n",
    "import sys\n",
    "import traceback\n",
    "\n",
    "STATS_SYMBOLS = ['IBM']\n",
    "KAFKA_BROKER = \"172.27.0.12:9092\"\n",
    "KAFKA_TOPIC = \"my_test\"\n",
    "KAFKA_PARTITION_TIME_SERIES = 'prt_time_series_av';\n",
    "API_KEY = 'Z1OYPV3VSJIAWIBV'\n",
    "\n",
    "# logging.basicConfig(level=logging.DEBUG)\n",
    "producer = KafkaProducer(bootstrap_servers=[KAFKA_BROKER])\n",
    "\n",
    "for symbol in STATS_SYMBOLS:\n",
    "    r = requests.get('https://www.alphavantage.co/query?function=TIME_SERIES_DAILY_ADJUSTED&symbol={}&outputsize=full&apikey={}'.format(symbol, API_KEY))\n",
    "    data = r.json()['Time Series (Daily)']\n",
    "    \n",
    "    for rec in data:\n",
    "        future = producer.send(KAFKA_TOPIC, json.dumps(data[rec]).encode('utf-8'))\n",
    "        try:\n",
    "            record_metadata = future.get(timeout=10)\n",
    "        except KafkaError:\n",
    "            print('err')\n",
    "            pass\n",
    "\n",
    "        producer.flush()"
   ]
  },
  {
   "cell_type": "code",
   "execution_count": null,
   "id": "b5454b0e",
   "metadata": {},
   "outputs": [],
   "source": [
    "from kafka import KafkaConsumer\n",
    "\n",
    "KAFKA_BROKER = \"172.27.0.12:9092\"\n",
    "KAFKA_TOPIC = \"my_test\"\n",
    "\n",
    "consumer = KafkaConsumer(KAFKA_TOPIC, bootstrap_servers=[KAFKA_BROKER])\n",
    "\n",
    "print('ill consuming2')\n",
    "\n",
    "for msg in consumer:\n",
    "    print('consume')\n",
    "    print(msg)"
   ]
  },
  {
   "cell_type": "code",
   "execution_count": null,
   "id": "1f09f87f",
   "metadata": {},
   "outputs": [],
   "source": []
  }
 ],
 "metadata": {
  "kernelspec": {
   "display_name": "Python 3",
   "language": "python",
   "name": "python3"
  },
  "language_info": {
   "codemirror_mode": {
    "name": "ipython",
    "version": 3
   },
   "file_extension": ".py",
   "mimetype": "text/x-python",
   "name": "python",
   "nbconvert_exporter": "python",
   "pygments_lexer": "ipython3",
   "version": "3.9.2"
  }
 },
 "nbformat": 4,
 "nbformat_minor": 5
}
